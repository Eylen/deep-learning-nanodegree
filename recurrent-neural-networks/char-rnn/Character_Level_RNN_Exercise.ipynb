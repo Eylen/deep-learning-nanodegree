{
  "nbformat": 4,
  "nbformat_minor": 0,
  "metadata": {
    "kernelspec": {
      "name": "python3",
      "display_name": "Python 3"
    },
    "language_info": {
      "codemirror_mode": {
        "name": "ipython",
        "version": 3
      },
      "file_extension": ".py",
      "mimetype": "text/x-python",
      "name": "python",
      "nbconvert_exporter": "python",
      "pygments_lexer": "ipython3",
      "version": "3.6.4"
    },
    "colab": {
      "name": "Character_Level_RNN_Exercise.ipynb",
      "provenance": []
    },
    "accelerator": "GPU"
  },
  "cells": [
    {
      "cell_type": "markdown",
      "metadata": {
        "id": "ofKPhN045HOS",
        "colab_type": "text"
      },
      "source": [
        "# Character-Level LSTM in PyTorch\n",
        "\n",
        "In this notebook, I'll construct a character-level LSTM with PyTorch. The network will train character by character on some text, then generate new text character by character. As an example, I will train on Anna Karenina. **This model will be able to generate new text based on the text from the book!**\n",
        "\n",
        "This network is based off of Andrej Karpathy's [post on RNNs](http://karpathy.github.io/2015/05/21/rnn-effectiveness/) and [implementation in Torch](https://github.com/karpathy/char-rnn). Below is the general architecture of the character-wise RNN.\n",
        "\n",
        "<img src=\"https://github.com/Eylen/deep-learning-v2-pytorch/blob/master/recurrent-neural-networks/char-rnn/assets/charseq.jpeg?raw=1\" width=\"500\">"
      ]
    },
    {
      "cell_type": "markdown",
      "metadata": {
        "id": "g11Eq2w55HOU",
        "colab_type": "text"
      },
      "source": [
        "First let's load in our required resources for data loading and model creation."
      ]
    },
    {
      "cell_type": "code",
      "metadata": {
        "id": "AYInePFY5HOV",
        "colab_type": "code",
        "colab": {}
      },
      "source": [
        "import numpy as np\n",
        "import torch\n",
        "from torch import nn\n",
        "import torch.nn.functional as F"
      ],
      "execution_count": 0,
      "outputs": []
    },
    {
      "cell_type": "markdown",
      "metadata": {
        "id": "jsrqnCiT5HOZ",
        "colab_type": "text"
      },
      "source": [
        "## Load in Data\n",
        "\n",
        "Then, we'll load the Anna Karenina text file and convert it into integers for our network to use. "
      ]
    },
    {
      "cell_type": "code",
      "metadata": {
        "id": "1dTu7rH85HOa",
        "colab_type": "code",
        "colab": {}
      },
      "source": [
        "# open text file and read in data as `text`\n",
        "with open('data/anna.txt', 'r') as f:\n",
        "    text = f.read()"
      ],
      "execution_count": 0,
      "outputs": []
    },
    {
      "cell_type": "markdown",
      "metadata": {
        "id": "eDP6dth_5HOe",
        "colab_type": "text"
      },
      "source": [
        "Let's check out the first 100 characters, make sure everything is peachy. According to the [American Book Review](http://americanbookreview.org/100bestlines.asp), this is the 6th best first line of a book ever."
      ]
    },
    {
      "cell_type": "code",
      "metadata": {
        "id": "0KvOOTM35HOf",
        "colab_type": "code",
        "colab": {
          "base_uri": "https://localhost:8080/",
          "height": 54
        },
        "outputId": "f66f9fda-44e5-4c18-96cd-080dcbd4bfe8"
      },
      "source": [
        "text[:100]"
      ],
      "execution_count": 30,
      "outputs": [
        {
          "output_type": "execute_result",
          "data": {
            "text/plain": [
              "'Chapter 1\\n\\n\\nHappy families are all alike; every unhappy family is unhappy in its own\\nway.\\n\\nEverythin'"
            ]
          },
          "metadata": {
            "tags": []
          },
          "execution_count": 30
        }
      ]
    },
    {
      "cell_type": "markdown",
      "metadata": {
        "id": "5fqTqUfm5HOj",
        "colab_type": "text"
      },
      "source": [
        "### Tokenization\n",
        "\n",
        "In the cells, below, I'm creating a couple **dictionaries** to convert the characters to and from integers. Encoding the characters as integers makes it easier to use as input in the network."
      ]
    },
    {
      "cell_type": "code",
      "metadata": {
        "id": "yJPI_eBA5HOk",
        "colab_type": "code",
        "colab": {}
      },
      "source": [
        "# encode the text and map each character to an integer and vice versa\n",
        "\n",
        "# we create two dictionaries:\n",
        "# 1. int2char, which maps integers to characters\n",
        "# 2. char2int, which maps characters to unique integers\n",
        "chars = tuple(set(text))\n",
        "int2char = dict(enumerate(chars))\n",
        "char2int = {ch: ii for ii, ch in int2char.items()}\n",
        "\n",
        "# encode the text\n",
        "encoded = np.array([char2int[ch] for ch in text])"
      ],
      "execution_count": 0,
      "outputs": []
    },
    {
      "cell_type": "markdown",
      "metadata": {
        "id": "kTituo0R5HOn",
        "colab_type": "text"
      },
      "source": [
        "And we can see those same characters from above, encoded as integers."
      ]
    },
    {
      "cell_type": "code",
      "metadata": {
        "id": "WuMbg4c65HOo",
        "colab_type": "code",
        "colab": {
          "base_uri": "https://localhost:8080/",
          "height": 119
        },
        "outputId": "3e6578db-731a-4f5a-fb4b-d2c74693dda7"
      },
      "source": [
        "encoded[:100]"
      ],
      "execution_count": 32,
      "outputs": [
        {
          "output_type": "execute_result",
          "data": {
            "text/plain": [
              "array([73, 63, 20, 57, 76, 21, 58, 81, 12, 71, 71, 71, 46, 20, 57, 57, 53,\n",
              "       81, 47, 20, 62, 10, 39, 10, 21, 70, 81, 20, 58, 21, 81, 20, 39, 39,\n",
              "       81, 20, 39, 10, 34, 21,  0, 81, 21, 40, 21, 58, 53, 81, 54, 14, 63,\n",
              "       20, 57, 57, 53, 81, 47, 20, 62, 10, 39, 53, 81, 10, 70, 81, 54, 14,\n",
              "       63, 20, 57, 57, 53, 81, 10, 14, 81, 10, 76, 70, 81, 36, 32, 14, 71,\n",
              "       32, 20, 53, 59, 71, 71, 65, 40, 21, 58, 53, 76, 63, 10, 14])"
            ]
          },
          "metadata": {
            "tags": []
          },
          "execution_count": 32
        }
      ]
    },
    {
      "cell_type": "markdown",
      "metadata": {
        "id": "U1d5YgBa5HOr",
        "colab_type": "text"
      },
      "source": [
        "## Pre-processing the data\n",
        "\n",
        "As you can see in our char-RNN image above, our LSTM expects an input that is **one-hot encoded** meaning that each character is converted into an integer (via our created dictionary) and *then* converted into a column vector where only it's corresponding integer index will have the value of 1 and the rest of the vector will be filled with 0's. Since we're one-hot encoding the data, let's make a function to do that!\n"
      ]
    },
    {
      "cell_type": "code",
      "metadata": {
        "id": "oe-cORPv5HOs",
        "colab_type": "code",
        "colab": {}
      },
      "source": [
        "def one_hot_encode(arr, n_labels):\n",
        "    \n",
        "    # Initialize the the encoded array\n",
        "    one_hot = np.zeros((arr.size, n_labels), dtype=np.float32)\n",
        "    \n",
        "    # Fill the appropriate elements with ones\n",
        "    one_hot[np.arange(one_hot.shape[0]), arr.flatten()] = 1.\n",
        "    \n",
        "    # Finally reshape it to get back to the original array\n",
        "    one_hot = one_hot.reshape((*arr.shape, n_labels))\n",
        "    \n",
        "    return one_hot"
      ],
      "execution_count": 0,
      "outputs": []
    },
    {
      "cell_type": "code",
      "metadata": {
        "id": "iFfvnS0g5HOv",
        "colab_type": "code",
        "colab": {
          "base_uri": "https://localhost:8080/",
          "height": 68
        },
        "outputId": "24753718-eb02-43dc-d289-bffc87375083"
      },
      "source": [
        "# check that the function works as expected\n",
        "test_seq = np.array([[3, 5, 1]])\n",
        "one_hot = one_hot_encode(test_seq, 8)\n",
        "\n",
        "print(one_hot)"
      ],
      "execution_count": 34,
      "outputs": [
        {
          "output_type": "stream",
          "text": [
            "[[[0. 0. 0. 1. 0. 0. 0. 0.]\n",
            "  [0. 0. 0. 0. 0. 1. 0. 0.]\n",
            "  [0. 1. 0. 0. 0. 0. 0. 0.]]]\n"
          ],
          "name": "stdout"
        }
      ]
    },
    {
      "cell_type": "markdown",
      "metadata": {
        "id": "VZJ76ZdF5HOz",
        "colab_type": "text"
      },
      "source": [
        "## Making training mini-batches\n",
        "\n",
        "\n",
        "To train on this data, we also want to create mini-batches for training. Remember that we want our batches to be multiple sequences of some desired number of sequence steps. Considering a simple example, our batches would look like this:\n",
        "\n",
        "<img src=\"https://github.com/Eylen/deep-learning-v2-pytorch/blob/master/recurrent-neural-networks/char-rnn/assets/sequence_batching@1x.png?raw=1\" width=500px>\n",
        "\n",
        "\n",
        "<br>\n",
        "\n",
        "In this example, we'll take the encoded characters (passed in as the `arr` parameter) and split them into multiple sequences, given by `batch_size`. Each of our sequences will be `seq_length` long.\n",
        "\n",
        "### Creating Batches\n",
        "\n",
        "**1. The first thing we need to do is discard some of the text so we only have completely full mini-batches. **\n",
        "\n",
        "Each batch contains $N \\times M$ characters, where $N$ is the batch size (the number of sequences in a batch) and $M$ is the seq_length or number of time steps in a sequence. Then, to get the total number of batches, $K$, that we can make from the array `arr`, you divide the length of `arr` by the number of characters per batch. Once you know the number of batches, you can get the total number of characters to keep from `arr`, $N * M * K$.\n",
        "\n",
        "**2. After that, we need to split `arr` into $N$ batches. ** \n",
        "\n",
        "You can do this using `arr.reshape(size)` where `size` is a tuple containing the dimensions sizes of the reshaped array. We know we want $N$ sequences in a batch, so let's make that the size of the first dimension. For the second dimension, you can use `-1` as a placeholder in the size, it'll fill up the array with the appropriate data for you. After this, you should have an array that is $N \\times (M * K)$.\n",
        "\n",
        "**3. Now that we have this array, we can iterate through it to get our mini-batches. **\n",
        "\n",
        "The idea is each batch is a $N \\times M$ window on the $N \\times (M * K)$ array. For each subsequent batch, the window moves over by `seq_length`. We also want to create both the input and target arrays. Remember that the targets are just the inputs shifted over by one character. The way I like to do this window is use `range` to take steps of size `n_steps` from $0$ to `arr.shape[1]`, the total number of tokens in each sequence. That way, the integers you get from `range` always point to the start of a batch, and each window is `seq_length` wide.\n",
        "\n",
        "> **TODO:** Write the code for creating batches in the function below. The exercises in this notebook _will not be easy_. I've provided a notebook with solutions alongside this notebook. If you get stuck, checkout the solutions. The most important thing is that you don't copy and paste the code into here, **type out the solution code yourself.**"
      ]
    },
    {
      "cell_type": "code",
      "metadata": {
        "id": "JqFO5wlCucOk",
        "colab_type": "code",
        "colab": {}
      },
      "source": [
        "import numpy as np\n"
      ],
      "execution_count": 0,
      "outputs": []
    },
    {
      "cell_type": "code",
      "metadata": {
        "id": "g2rqTiRc5HO0",
        "colab_type": "code",
        "colab": {}
      },
      "source": [
        "def get_batches(arr, batch_size, seq_length):\n",
        "    '''Create a generator that returns batches of size\n",
        "       batch_size x seq_length from arr.\n",
        "       \n",
        "       Arguments\n",
        "       ---------\n",
        "       arr: Array you want to make batches from\n",
        "       batch_size: Batch size, the number of sequences per batch\n",
        "       seq_length: Number of encoded chars in a sequence\n",
        "    '''\n",
        "    characters_in_batch = batch_size * seq_length\n",
        "\n",
        "    ## TODO: Get the number of batches we can make\n",
        "    n_batches = len(arr) // characters_in_batch\n",
        "    \n",
        "    ## TODO: Keep only enough characters to make full batches\n",
        "    arr = arr[:(n_batches * characters_in_batch)]\n",
        "    \n",
        "    ## TODO: Reshape into batch_size rows\n",
        "    arr = arr.reshape((batch_size, -1))\n",
        "    \n",
        "    ## TODO: Iterate over the batches using a window of size seq_length\n",
        "    for n in range(0, arr.shape[1], seq_length):\n",
        "        # The features\n",
        "        x = arr[:, n:n+seq_length]\n",
        "        # The targets, shifted by one\n",
        "        y = np.roll(x, -1)\n",
        "\n",
        "        yield x, y"
      ],
      "execution_count": 0,
      "outputs": []
    },
    {
      "cell_type": "markdown",
      "metadata": {
        "id": "1nW5YQf_5HO3",
        "colab_type": "text"
      },
      "source": [
        "### Test Your Implementation\n",
        "\n",
        "Now I'll make some data sets and we can check out what's going on as we batch data. Here, as an example, I'm going to use a batch size of 8 and 50 sequence steps."
      ]
    },
    {
      "cell_type": "code",
      "metadata": {
        "id": "L13iOSbj5HO4",
        "colab_type": "code",
        "colab": {}
      },
      "source": [
        "batches = get_batches(encoded, 8, 50)\n",
        "x, y = next(batches)"
      ],
      "execution_count": 0,
      "outputs": []
    },
    {
      "cell_type": "code",
      "metadata": {
        "id": "frd7Rz4v5HO7",
        "colab_type": "code",
        "colab": {
          "base_uri": "https://localhost:8080/",
          "height": 340
        },
        "outputId": "f384f04b-d05a-405b-b857-59e8dba09d36"
      },
      "source": [
        "# printing out the first 10 items in a sequence\n",
        "print('x\\n', x[:10, :10])\n",
        "print('\\ny\\n', y[:10, :10])"
      ],
      "execution_count": 48,
      "outputs": [
        {
          "output_type": "stream",
          "text": [
            "x\n",
            " [[73 63 20 57 76 21 58 81 12 71]\n",
            " [70 36 14 81 76 63 20 76 81 20]\n",
            " [21 14 56 81 36 58 81 20 81 47]\n",
            " [70 81 76 63 21 81 11 63 10 21]\n",
            " [81 70 20 32 81 63 21 58 81 76]\n",
            " [11 54 70 70 10 36 14 81 20 14]\n",
            " [81 60 14 14 20 81 63 20 56 81]\n",
            " [23 67 39 36 14 70 34 53 59 81]]\n",
            "\n",
            "y\n",
            " [[63 20 57 76 21 58 81 12 71 71]\n",
            " [36 14 81 76 63 20 76 81 20 76]\n",
            " [14 56 81 36 58 81 20 81 47 36]\n",
            " [81 76 63 21 81 11 63 10 21 47]\n",
            " [70 20 32 81 63 21 58 81 76 21]\n",
            " [54 70 70 10 36 14 81 20 14 56]\n",
            " [60 14 14 20 81 63 20 56 81 70]\n",
            " [67 39 36 14 70 34 53 59 81  5]]\n"
          ],
          "name": "stdout"
        }
      ]
    },
    {
      "cell_type": "markdown",
      "metadata": {
        "id": "HQvLQyUI5HO_",
        "colab_type": "text"
      },
      "source": [
        "If you implemented `get_batches` correctly, the above output should look something like \n",
        "```\n",
        "x\n",
        " [[25  8 60 11 45 27 28 73  1  2]\n",
        " [17  7 20 73 45  8 60 45 73 60]\n",
        " [27 20 80 73  7 28 73 60 73 65]\n",
        " [17 73 45  8 27 73 66  8 46 27]\n",
        " [73 17 60 12 73  8 27 28 73 45]\n",
        " [66 64 17 17 46  7 20 73 60 20]\n",
        " [73 76 20 20 60 73  8 60 80 73]\n",
        " [47 35 43  7 20 17 24 50 37 73]]\n",
        "\n",
        "y\n",
        " [[ 8 60 11 45 27 28 73  1  2  2]\n",
        " [ 7 20 73 45  8 60 45 73 60 45]\n",
        " [20 80 73  7 28 73 60 73 65  7]\n",
        " [73 45  8 27 73 66  8 46 27 65]\n",
        " [17 60 12 73  8 27 28 73 45 27]\n",
        " [64 17 17 46  7 20 73 60 20 80]\n",
        " [76 20 20 60 73  8 60 80 73 17]\n",
        " [35 43  7 20 17 24 50 37 73 36]]\n",
        " ```\n",
        " although the exact numbers may be different. Check to make sure the data is shifted over one step for `y`."
      ]
    },
    {
      "cell_type": "markdown",
      "metadata": {
        "id": "aL8Dbk025HPA",
        "colab_type": "text"
      },
      "source": [
        "---\n",
        "## Defining the network with PyTorch\n",
        "\n",
        "Below is where you'll define the network.\n",
        "\n",
        "<img src=\"https://github.com/Eylen/deep-learning-v2-pytorch/blob/master/recurrent-neural-networks/char-rnn/assets/charRNN.png?raw=1\" width=500px>\n",
        "\n",
        "Next, you'll use PyTorch to define the architecture of the network. We start by defining the layers and operations we want. Then, define a method for the forward pass. You've also been given a method for predicting characters."
      ]
    },
    {
      "cell_type": "markdown",
      "metadata": {
        "id": "1dtTng6T5HPB",
        "colab_type": "text"
      },
      "source": [
        "### Model Structure\n",
        "\n",
        "In `__init__` the suggested structure is as follows:\n",
        "* Create and store the necessary dictionaries (this has been done for you)\n",
        "* Define an LSTM layer that takes as params: an input size (the number of characters), a hidden layer size `n_hidden`, a number of layers `n_layers`, a dropout probability `drop_prob`, and a batch_first boolean (True, since we are batching)\n",
        "* Define a dropout layer with `drop_prob`\n",
        "* Define a fully-connected layer with params: input size `n_hidden` and output size (the number of characters)\n",
        "* Finally, initialize the weights (again, this has been given)\n",
        "\n",
        "Note that some parameters have been named and given in the `__init__` function, and we use them and store them by doing something like `self.drop_prob = drop_prob`."
      ]
    },
    {
      "cell_type": "markdown",
      "metadata": {
        "id": "pLi1gaNj5HPC",
        "colab_type": "text"
      },
      "source": [
        "---\n",
        "### LSTM Inputs/Outputs\n",
        "\n",
        "You can create a basic [LSTM layer](https://pytorch.org/docs/stable/nn.html#lstm) as follows\n",
        "\n",
        "```python\n",
        "self.lstm = nn.LSTM(input_size, n_hidden, n_layers, \n",
        "                            dropout=drop_prob, batch_first=True)\n",
        "```\n",
        "\n",
        "where `input_size` is the number of characters this cell expects to see as sequential input, and `n_hidden` is the number of units in the hidden layers in the cell. And we can add dropout by adding a dropout parameter with a specified probability; this will automatically add dropout to the inputs or outputs. Finally, in the `forward` function, we can stack up the LSTM cells into layers using `.view`. With this, you pass in a list of cells and it will send the output of one cell into the next cell.\n",
        "\n",
        "We also need to create an initial hidden state of all zeros. This is done like so\n",
        "\n",
        "```python\n",
        "self.init_hidden()\n",
        "```"
      ]
    },
    {
      "cell_type": "code",
      "metadata": {
        "id": "yBqtuozJ5HPD",
        "colab_type": "code",
        "colab": {
          "base_uri": "https://localhost:8080/",
          "height": 34
        },
        "outputId": "f3650ecf-ef7d-4768-d834-8a40dfc55c88"
      },
      "source": [
        "# check if GPU is available\n",
        "train_on_gpu = torch.cuda.is_available()\n",
        "if(train_on_gpu):\n",
        "    print('Training on GPU!')\n",
        "else: \n",
        "    print('No GPU available, training on CPU; consider making n_epochs very small.')"
      ],
      "execution_count": 49,
      "outputs": [
        {
          "output_type": "stream",
          "text": [
            "Training on GPU!\n"
          ],
          "name": "stdout"
        }
      ]
    },
    {
      "cell_type": "code",
      "metadata": {
        "id": "JfMOMYM35HPI",
        "colab_type": "code",
        "colab": {}
      },
      "source": [
        "class CharRNN(nn.Module):\n",
        "    \n",
        "    def __init__(self, tokens, n_hidden=256, n_layers=2,\n",
        "                               drop_prob=0.5, lr=0.001):\n",
        "        super().__init__()\n",
        "        self.drop_prob = drop_prob\n",
        "        self.n_layers = n_layers\n",
        "        self.n_hidden = n_hidden\n",
        "        self.lr = lr\n",
        "        \n",
        "        # creating character dictionaries\n",
        "        self.chars = tokens\n",
        "        self.int2char = dict(enumerate(self.chars))\n",
        "        self.char2int = {ch: ii for ii, ch in self.int2char.items()}\n",
        "        \n",
        "        ## TODO: define the layers of the model\n",
        "        self.lstm = nn.LSTM(len(self.chars), self.n_hidden, self.n_layers, \n",
        "                            dropout=self.drop_prob, batch_first=True)\n",
        "        \n",
        "        self.dropout = nn.Dropout(p=self.drop_prob)\n",
        "\n",
        "        self.fc = nn.Linear(self.n_hidden, len(self.chars))\n",
        "      \n",
        "    \n",
        "    def forward(self, x, hidden):\n",
        "        ''' Forward pass through the network. \n",
        "            These inputs are x, and the hidden/cell state `hidden`. '''\n",
        "                \n",
        "        ## TODO: Get the outputs and the new hidden state from the lstm\n",
        "        r_output, hidden = self.lstm(x, hidden)\n",
        "        \n",
        "        ## TODO: pass through a dropout layer\n",
        "        out = self.dropout(r_output)\n",
        "        \n",
        "        # Stack up LSTM outputs using view\n",
        "        # you may need to use contiguous to reshape the output\n",
        "        out = out.contiguous().view(-1, self.n_hidden)\n",
        "        \n",
        "        ## TODO: put x through the fully-connected layer\n",
        "        out = self.fc(out)\n",
        "        \n",
        "        # return the final output and the hidden state\n",
        "        return out, hidden\n",
        "    \n",
        "    \n",
        "    def init_hidden(self, batch_size):\n",
        "        ''' Initializes hidden state '''\n",
        "        # Create two new tensors with sizes n_layers x batch_size x n_hidden,\n",
        "        # initialized to zero, for hidden state and cell state of LSTM\n",
        "        weight = next(self.parameters()).data\n",
        "        \n",
        "        if (train_on_gpu):\n",
        "            hidden = (weight.new(self.n_layers, batch_size, self.n_hidden).zero_().cuda(),\n",
        "                  weight.new(self.n_layers, batch_size, self.n_hidden).zero_().cuda())\n",
        "        else:\n",
        "            hidden = (weight.new(self.n_layers, batch_size, self.n_hidden).zero_(),\n",
        "                      weight.new(self.n_layers, batch_size, self.n_hidden).zero_())\n",
        "        \n",
        "        return hidden\n",
        "        "
      ],
      "execution_count": 0,
      "outputs": []
    },
    {
      "cell_type": "markdown",
      "metadata": {
        "id": "RwZnFX445HPL",
        "colab_type": "text"
      },
      "source": [
        "## Time to train\n",
        "\n",
        "The train function gives us the ability to set the number of epochs, the learning rate, and other parameters.\n",
        "\n",
        "Below we're using an Adam optimizer and cross entropy loss since we are looking at character class scores as output. We calculate the loss and perform backpropagation, as usual!\n",
        "\n",
        "A couple of details about training: \n",
        ">* Within the batch loop, we detach the hidden state from its history; this time setting it equal to a new *tuple* variable because an LSTM has a hidden state that is a tuple of the hidden and cell states.\n",
        "* We use [`clip_grad_norm_`](https://pytorch.org/docs/stable/_modules/torch/nn/utils/clip_grad.html) to help prevent exploding gradients."
      ]
    },
    {
      "cell_type": "code",
      "metadata": {
        "id": "b72JpBI05HPN",
        "colab_type": "code",
        "colab": {}
      },
      "source": [
        "def train(net, data, epochs=10, batch_size=10, seq_length=50, lr=0.001, clip=5, val_frac=0.1, print_every=10):\n",
        "    ''' Training a network \n",
        "    \n",
        "        Arguments\n",
        "        ---------\n",
        "        \n",
        "        net: CharRNN network\n",
        "        data: text data to train the network\n",
        "        epochs: Number of epochs to train\n",
        "        batch_size: Number of mini-sequences per mini-batch, aka batch size\n",
        "        seq_length: Number of character steps per mini-batch\n",
        "        lr: learning rate\n",
        "        clip: gradient clipping\n",
        "        val_frac: Fraction of data to hold out for validation\n",
        "        print_every: Number of steps for printing training and validation loss\n",
        "    \n",
        "    '''\n",
        "    net.train()\n",
        "    \n",
        "    opt = torch.optim.Adam(net.parameters(), lr=lr)\n",
        "    criterion = nn.CrossEntropyLoss()\n",
        "    \n",
        "    # create training and validation data\n",
        "    val_idx = int(len(data)*(1-val_frac))\n",
        "    data, val_data = data[:val_idx], data[val_idx:]\n",
        "    \n",
        "    if(train_on_gpu):\n",
        "        net.cuda()\n",
        "    \n",
        "    counter = 0\n",
        "    n_chars = len(net.chars)\n",
        "    for e in range(epochs):\n",
        "        # initialize hidden state\n",
        "        h = net.init_hidden(batch_size)\n",
        "        \n",
        "        for x, y in get_batches(data, batch_size, seq_length):\n",
        "            counter += 1\n",
        "            \n",
        "            # One-hot encode our data and make them Torch tensors\n",
        "            x = one_hot_encode(x, n_chars)\n",
        "            inputs, targets = torch.from_numpy(x), torch.from_numpy(y)\n",
        "            \n",
        "            if(train_on_gpu):\n",
        "                inputs, targets = inputs.cuda(), targets.cuda()\n",
        "\n",
        "            # Creating new variables for the hidden state, otherwise\n",
        "            # we'd backprop through the entire training history\n",
        "            h = tuple([each.data for each in h])\n",
        "\n",
        "            # zero accumulated gradients\n",
        "            net.zero_grad()\n",
        "            \n",
        "            # get the output from the model\n",
        "            output, h = net(inputs, h)\n",
        "            \n",
        "            # calculate the loss and perform backprop\n",
        "            loss = criterion(output, targets.view(batch_size*seq_length).long())\n",
        "            loss.backward()\n",
        "            # `clip_grad_norm` helps prevent the exploding gradient problem in RNNs / LSTMs.\n",
        "            nn.utils.clip_grad_norm_(net.parameters(), clip)\n",
        "            opt.step()\n",
        "            \n",
        "            # loss stats\n",
        "            if counter % print_every == 0:\n",
        "                # Get validation loss\n",
        "                val_h = net.init_hidden(batch_size)\n",
        "                val_losses = []\n",
        "                net.eval()\n",
        "                for x, y in get_batches(val_data, batch_size, seq_length):\n",
        "                    # One-hot encode our data and make them Torch tensors\n",
        "                    x = one_hot_encode(x, n_chars)\n",
        "                    x, y = torch.from_numpy(x), torch.from_numpy(y)\n",
        "                    \n",
        "                    # Creating new variables for the hidden state, otherwise\n",
        "                    # we'd backprop through the entire training history\n",
        "                    val_h = tuple([each.data for each in val_h])\n",
        "                    \n",
        "                    inputs, targets = x, y\n",
        "                    if(train_on_gpu):\n",
        "                        inputs, targets = inputs.cuda(), targets.cuda()\n",
        "\n",
        "                    output, val_h = net(inputs, val_h)\n",
        "                    val_loss = criterion(output, targets.view(batch_size*seq_length).long())\n",
        "                \n",
        "                    val_losses.append(val_loss.item())\n",
        "                \n",
        "                net.train() # reset to train mode after iterationg through validation data\n",
        "                \n",
        "                print(\"Epoch: {}/{}...\".format(e+1, epochs),\n",
        "                      \"Step: {}...\".format(counter),\n",
        "                      \"Loss: {:.4f}...\".format(loss.item()),\n",
        "                      \"Val Loss: {:.4f}\".format(np.mean(val_losses)))"
      ],
      "execution_count": 0,
      "outputs": []
    },
    {
      "cell_type": "markdown",
      "metadata": {
        "id": "A9g45y5I5HPQ",
        "colab_type": "text"
      },
      "source": [
        "## Instantiating the model\n",
        "\n",
        "Now we can actually train the network. First we'll create the network itself, with some given hyperparameters. Then, define the mini-batches sizes, and start training!"
      ]
    },
    {
      "cell_type": "code",
      "metadata": {
        "id": "Wmm4VV_W5HPS",
        "colab_type": "code",
        "colab": {
          "base_uri": "https://localhost:8080/",
          "height": 102
        },
        "outputId": "94396a9b-5feb-464b-a0a3-27e066689da0"
      },
      "source": [
        "## TODO: set your model hyperparameters\n",
        "# define and print the net\n",
        "n_hidden=512\n",
        "n_layers=2\n",
        "\n",
        "net = CharRNN(chars, n_hidden, n_layers)\n",
        "print(net)"
      ],
      "execution_count": 58,
      "outputs": [
        {
          "output_type": "stream",
          "text": [
            "CharRNN(\n",
            "  (lstm): LSTM(83, 512, num_layers=2, batch_first=True, dropout=0.5)\n",
            "  (dropout): Dropout(p=0.5, inplace=False)\n",
            "  (fc): Linear(in_features=512, out_features=83, bias=True)\n",
            ")\n"
          ],
          "name": "stdout"
        }
      ]
    },
    {
      "cell_type": "markdown",
      "metadata": {
        "id": "2v8uHgij5HPW",
        "colab_type": "text"
      },
      "source": [
        "### Set your training hyperparameters!"
      ]
    },
    {
      "cell_type": "code",
      "metadata": {
        "scrolled": true,
        "id": "70C_otue5HPX",
        "colab_type": "code",
        "colab": {
          "base_uri": "https://localhost:8080/",
          "height": 1000
        },
        "outputId": "7ada17c2-03d2-44bf-d2d5-6db6283641be"
      },
      "source": [
        "batch_size = 128\n",
        "seq_length = 100\n",
        "n_epochs = 20 # start small if you are just testing initial behavior\n",
        "\n",
        "# train the model\n",
        "train(net, encoded, epochs=n_epochs, batch_size=batch_size, seq_length=seq_length, lr=0.001, print_every=10)"
      ],
      "execution_count": 59,
      "outputs": [
        {
          "output_type": "stream",
          "text": [
            "Epoch: 1/20... Step: 10... Loss: 3.2562... Val Loss: 3.1816\n",
            "Epoch: 1/20... Step: 20... Loss: 3.1472... Val Loss: 3.1289\n",
            "Epoch: 1/20... Step: 30... Loss: 3.1417... Val Loss: 3.1205\n",
            "Epoch: 1/20... Step: 40... Loss: 3.1113... Val Loss: 3.1191\n",
            "Epoch: 1/20... Step: 50... Loss: 3.1430... Val Loss: 3.1165\n",
            "Epoch: 1/20... Step: 60... Loss: 3.1147... Val Loss: 3.1135\n",
            "Epoch: 1/20... Step: 70... Loss: 3.1050... Val Loss: 3.1085\n",
            "Epoch: 1/20... Step: 80... Loss: 3.1098... Val Loss: 3.0958\n",
            "Epoch: 1/20... Step: 90... Loss: 3.0852... Val Loss: 3.0675\n",
            "Epoch: 1/20... Step: 100... Loss: 3.0145... Val Loss: 2.9933\n",
            "Epoch: 1/20... Step: 110... Loss: 2.9371... Val Loss: 2.9157\n",
            "Epoch: 1/20... Step: 120... Loss: 2.7966... Val Loss: 2.7986\n",
            "Epoch: 1/20... Step: 130... Loss: 2.7446... Val Loss: 2.6985\n",
            "Epoch: 2/20... Step: 140... Loss: 2.6456... Val Loss: 2.5917\n",
            "Epoch: 2/20... Step: 150... Loss: 2.5784... Val Loss: 2.5271\n",
            "Epoch: 2/20... Step: 160... Loss: 2.5218... Val Loss: 2.4848\n",
            "Epoch: 2/20... Step: 170... Loss: 2.4656... Val Loss: 2.4419\n",
            "Epoch: 2/20... Step: 180... Loss: 2.4398... Val Loss: 2.4137\n",
            "Epoch: 2/20... Step: 190... Loss: 2.3910... Val Loss: 2.3850\n",
            "Epoch: 2/20... Step: 200... Loss: 2.3857... Val Loss: 2.3514\n",
            "Epoch: 2/20... Step: 210... Loss: 2.3549... Val Loss: 2.3227\n",
            "Epoch: 2/20... Step: 220... Loss: 2.3099... Val Loss: 2.2937\n",
            "Epoch: 2/20... Step: 230... Loss: 2.3060... Val Loss: 2.2729\n",
            "Epoch: 2/20... Step: 240... Loss: 2.2883... Val Loss: 2.2450\n",
            "Epoch: 2/20... Step: 250... Loss: 2.2303... Val Loss: 2.2254\n",
            "Epoch: 2/20... Step: 260... Loss: 2.2024... Val Loss: 2.1978\n",
            "Epoch: 2/20... Step: 270... Loss: 2.2093... Val Loss: 2.1755\n",
            "Epoch: 3/20... Step: 280... Loss: 2.2044... Val Loss: 2.1546\n",
            "Epoch: 3/20... Step: 290... Loss: 2.1760... Val Loss: 2.1319\n",
            "Epoch: 3/20... Step: 300... Loss: 2.1522... Val Loss: 2.1123\n",
            "Epoch: 3/20... Step: 310... Loss: 2.1337... Val Loss: 2.0952\n",
            "Epoch: 3/20... Step: 320... Loss: 2.0978... Val Loss: 2.0788\n",
            "Epoch: 3/20... Step: 330... Loss: 2.0597... Val Loss: 2.0642\n",
            "Epoch: 3/20... Step: 340... Loss: 2.0820... Val Loss: 2.0428\n",
            "Epoch: 3/20... Step: 350... Loss: 2.0674... Val Loss: 2.0291\n",
            "Epoch: 3/20... Step: 360... Loss: 2.0098... Val Loss: 2.0119\n",
            "Epoch: 3/20... Step: 370... Loss: 2.0378... Val Loss: 1.9956\n",
            "Epoch: 3/20... Step: 380... Loss: 2.0058... Val Loss: 1.9826\n",
            "Epoch: 3/20... Step: 390... Loss: 1.9760... Val Loss: 1.9654\n",
            "Epoch: 3/20... Step: 400... Loss: 1.9537... Val Loss: 1.9529\n",
            "Epoch: 3/20... Step: 410... Loss: 1.9685... Val Loss: 1.9389\n",
            "Epoch: 4/20... Step: 420... Loss: 1.9605... Val Loss: 1.9218\n",
            "Epoch: 4/20... Step: 430... Loss: 1.9444... Val Loss: 1.9085\n",
            "Epoch: 4/20... Step: 440... Loss: 1.9374... Val Loss: 1.9013\n",
            "Epoch: 4/20... Step: 450... Loss: 1.8795... Val Loss: 1.8851\n",
            "Epoch: 4/20... Step: 460... Loss: 1.8654... Val Loss: 1.8733\n",
            "Epoch: 4/20... Step: 470... Loss: 1.9016... Val Loss: 1.8651\n",
            "Epoch: 4/20... Step: 480... Loss: 1.8782... Val Loss: 1.8508\n",
            "Epoch: 4/20... Step: 490... Loss: 1.8788... Val Loss: 1.8381\n",
            "Epoch: 4/20... Step: 500... Loss: 1.8794... Val Loss: 1.8323\n",
            "Epoch: 4/20... Step: 510... Loss: 1.8546... Val Loss: 1.8215\n",
            "Epoch: 4/20... Step: 520... Loss: 1.8773... Val Loss: 1.8095\n",
            "Epoch: 4/20... Step: 530... Loss: 1.8308... Val Loss: 1.8043\n",
            "Epoch: 4/20... Step: 540... Loss: 1.7873... Val Loss: 1.7943\n",
            "Epoch: 4/20... Step: 550... Loss: 1.8427... Val Loss: 1.7864\n",
            "Epoch: 5/20... Step: 560... Loss: 1.8180... Val Loss: 1.7769\n",
            "Epoch: 5/20... Step: 570... Loss: 1.7779... Val Loss: 1.7685\n",
            "Epoch: 5/20... Step: 580... Loss: 1.7625... Val Loss: 1.7600\n",
            "Epoch: 5/20... Step: 590... Loss: 1.7601... Val Loss: 1.7518\n",
            "Epoch: 5/20... Step: 600... Loss: 1.7594... Val Loss: 1.7440\n",
            "Epoch: 5/20... Step: 610... Loss: 1.7431... Val Loss: 1.7376\n",
            "Epoch: 5/20... Step: 620... Loss: 1.7519... Val Loss: 1.7310\n",
            "Epoch: 5/20... Step: 630... Loss: 1.7670... Val Loss: 1.7235\n",
            "Epoch: 5/20... Step: 640... Loss: 1.7365... Val Loss: 1.7147\n",
            "Epoch: 5/20... Step: 650... Loss: 1.7233... Val Loss: 1.7110\n",
            "Epoch: 5/20... Step: 660... Loss: 1.7051... Val Loss: 1.7029\n",
            "Epoch: 5/20... Step: 670... Loss: 1.7234... Val Loss: 1.7006\n",
            "Epoch: 5/20... Step: 680... Loss: 1.7185... Val Loss: 1.6921\n",
            "Epoch: 5/20... Step: 690... Loss: 1.6962... Val Loss: 1.6865\n",
            "Epoch: 6/20... Step: 700... Loss: 1.6974... Val Loss: 1.6792\n",
            "Epoch: 6/20... Step: 710... Loss: 1.6862... Val Loss: 1.6729\n",
            "Epoch: 6/20... Step: 720... Loss: 1.6790... Val Loss: 1.6655\n",
            "Epoch: 6/20... Step: 730... Loss: 1.6911... Val Loss: 1.6610\n",
            "Epoch: 6/20... Step: 740... Loss: 1.6602... Val Loss: 1.6561\n",
            "Epoch: 6/20... Step: 750... Loss: 1.6343... Val Loss: 1.6487\n",
            "Epoch: 6/20... Step: 760... Loss: 1.6676... Val Loss: 1.6438\n",
            "Epoch: 6/20... Step: 770... Loss: 1.6723... Val Loss: 1.6447\n",
            "Epoch: 6/20... Step: 780... Loss: 1.6336... Val Loss: 1.6353\n",
            "Epoch: 6/20... Step: 790... Loss: 1.6201... Val Loss: 1.6308\n",
            "Epoch: 6/20... Step: 800... Loss: 1.6338... Val Loss: 1.6268\n",
            "Epoch: 6/20... Step: 810... Loss: 1.6407... Val Loss: 1.6224\n",
            "Epoch: 6/20... Step: 820... Loss: 1.5993... Val Loss: 1.6176\n",
            "Epoch: 6/20... Step: 830... Loss: 1.6423... Val Loss: 1.6112\n",
            "Epoch: 7/20... Step: 840... Loss: 1.5920... Val Loss: 1.6117\n",
            "Epoch: 7/20... Step: 850... Loss: 1.6084... Val Loss: 1.6047\n",
            "Epoch: 7/20... Step: 860... Loss: 1.5967... Val Loss: 1.6010\n",
            "Epoch: 7/20... Step: 870... Loss: 1.6112... Val Loss: 1.5982\n",
            "Epoch: 7/20... Step: 880... Loss: 1.6093... Val Loss: 1.5920\n",
            "Epoch: 7/20... Step: 890... Loss: 1.6042... Val Loss: 1.5881\n",
            "Epoch: 7/20... Step: 900... Loss: 1.5835... Val Loss: 1.5883\n",
            "Epoch: 7/20... Step: 910... Loss: 1.5713... Val Loss: 1.5836\n",
            "Epoch: 7/20... Step: 920... Loss: 1.5736... Val Loss: 1.5762\n",
            "Epoch: 7/20... Step: 930... Loss: 1.5716... Val Loss: 1.5723\n",
            "Epoch: 7/20... Step: 940... Loss: 1.5729... Val Loss: 1.5697\n",
            "Epoch: 7/20... Step: 950... Loss: 1.5860... Val Loss: 1.5662\n",
            "Epoch: 7/20... Step: 960... Loss: 1.5741... Val Loss: 1.5604\n",
            "Epoch: 7/20... Step: 970... Loss: 1.5917... Val Loss: 1.5590\n",
            "Epoch: 8/20... Step: 980... Loss: 1.5607... Val Loss: 1.5605\n",
            "Epoch: 8/20... Step: 990... Loss: 1.5543... Val Loss: 1.5556\n",
            "Epoch: 8/20... Step: 1000... Loss: 1.5503... Val Loss: 1.5482\n",
            "Epoch: 8/20... Step: 1010... Loss: 1.5927... Val Loss: 1.5468\n",
            "Epoch: 8/20... Step: 1020... Loss: 1.5587... Val Loss: 1.5426\n",
            "Epoch: 8/20... Step: 1030... Loss: 1.5455... Val Loss: 1.5384\n",
            "Epoch: 8/20... Step: 1040... Loss: 1.5498... Val Loss: 1.5413\n",
            "Epoch: 8/20... Step: 1050... Loss: 1.5360... Val Loss: 1.5362\n",
            "Epoch: 8/20... Step: 1060... Loss: 1.5308... Val Loss: 1.5271\n",
            "Epoch: 8/20... Step: 1070... Loss: 1.5293... Val Loss: 1.5281\n",
            "Epoch: 8/20... Step: 1080... Loss: 1.5387... Val Loss: 1.5265\n",
            "Epoch: 8/20... Step: 1090... Loss: 1.5234... Val Loss: 1.5215\n",
            "Epoch: 8/20... Step: 1100... Loss: 1.5115... Val Loss: 1.5187\n",
            "Epoch: 8/20... Step: 1110... Loss: 1.5251... Val Loss: 1.5146\n",
            "Epoch: 9/20... Step: 1120... Loss: 1.5262... Val Loss: 1.5177\n",
            "Epoch: 9/20... Step: 1130... Loss: 1.5244... Val Loss: 1.5148\n",
            "Epoch: 9/20... Step: 1140... Loss: 1.5300... Val Loss: 1.5081\n",
            "Epoch: 9/20... Step: 1150... Loss: 1.5290... Val Loss: 1.5081\n",
            "Epoch: 9/20... Step: 1160... Loss: 1.4888... Val Loss: 1.5016\n",
            "Epoch: 9/20... Step: 1170... Loss: 1.5008... Val Loss: 1.4969\n",
            "Epoch: 9/20... Step: 1180... Loss: 1.5072... Val Loss: 1.4981\n",
            "Epoch: 9/20... Step: 1190... Loss: 1.5240... Val Loss: 1.4976\n",
            "Epoch: 9/20... Step: 1200... Loss: 1.4669... Val Loss: 1.4931\n",
            "Epoch: 9/20... Step: 1210... Loss: 1.4871... Val Loss: 1.4901\n",
            "Epoch: 9/20... Step: 1220... Loss: 1.4851... Val Loss: 1.4891\n",
            "Epoch: 9/20... Step: 1230... Loss: 1.4637... Val Loss: 1.4872\n",
            "Epoch: 9/20... Step: 1240... Loss: 1.4804... Val Loss: 1.4829\n",
            "Epoch: 9/20... Step: 1250... Loss: 1.4953... Val Loss: 1.4813\n",
            "Epoch: 10/20... Step: 1260... Loss: 1.4938... Val Loss: 1.4791\n",
            "Epoch: 10/20... Step: 1270... Loss: 1.4795... Val Loss: 1.4789\n",
            "Epoch: 10/20... Step: 1280... Loss: 1.4988... Val Loss: 1.4745\n",
            "Epoch: 10/20... Step: 1290... Loss: 1.4833... Val Loss: 1.4753\n",
            "Epoch: 10/20... Step: 1300... Loss: 1.4702... Val Loss: 1.4731\n",
            "Epoch: 10/20... Step: 1310... Loss: 1.4793... Val Loss: 1.4712\n",
            "Epoch: 10/20... Step: 1320... Loss: 1.4454... Val Loss: 1.4694\n",
            "Epoch: 10/20... Step: 1330... Loss: 1.4589... Val Loss: 1.4691\n",
            "Epoch: 10/20... Step: 1340... Loss: 1.4533... Val Loss: 1.4611\n",
            "Epoch: 10/20... Step: 1350... Loss: 1.4391... Val Loss: 1.4648\n",
            "Epoch: 10/20... Step: 1360... Loss: 1.4509... Val Loss: 1.4623\n",
            "Epoch: 10/20... Step: 1370... Loss: 1.4295... Val Loss: 1.4626\n",
            "Epoch: 10/20... Step: 1380... Loss: 1.4643... Val Loss: 1.4592\n",
            "Epoch: 10/20... Step: 1390... Loss: 1.4210... Val Loss: 1.4547\n",
            "Epoch: 11/20... Step: 1400... Loss: 1.4708... Val Loss: 1.4523\n",
            "Epoch: 11/20... Step: 1410... Loss: 1.4858... Val Loss: 1.4529\n",
            "Epoch: 11/20... Step: 1420... Loss: 1.4803... Val Loss: 1.4475\n",
            "Epoch: 11/20... Step: 1430... Loss: 1.4374... Val Loss: 1.4505\n",
            "Epoch: 11/20... Step: 1440... Loss: 1.4623... Val Loss: 1.4488\n",
            "Epoch: 11/20... Step: 1450... Loss: 1.3989... Val Loss: 1.4476\n",
            "Epoch: 11/20... Step: 1460... Loss: 1.4180... Val Loss: 1.4436\n",
            "Epoch: 11/20... Step: 1470... Loss: 1.4234... Val Loss: 1.4468\n",
            "Epoch: 11/20... Step: 1480... Loss: 1.4319... Val Loss: 1.4390\n",
            "Epoch: 11/20... Step: 1490... Loss: 1.4256... Val Loss: 1.4449\n",
            "Epoch: 11/20... Step: 1500... Loss: 1.4114... Val Loss: 1.4394\n",
            "Epoch: 11/20... Step: 1510... Loss: 1.4012... Val Loss: 1.4355\n",
            "Epoch: 11/20... Step: 1520... Loss: 1.4365... Val Loss: 1.4332\n",
            "Epoch: 12/20... Step: 1530... Loss: 1.4811... Val Loss: 1.4327\n",
            "Epoch: 12/20... Step: 1540... Loss: 1.4395... Val Loss: 1.4323\n",
            "Epoch: 12/20... Step: 1550... Loss: 1.4413... Val Loss: 1.4315\n",
            "Epoch: 12/20... Step: 1560... Loss: 1.4525... Val Loss: 1.4272\n",
            "Epoch: 12/20... Step: 1570... Loss: 1.4133... Val Loss: 1.4302\n",
            "Epoch: 12/20... Step: 1580... Loss: 1.3748... Val Loss: 1.4264\n",
            "Epoch: 12/20... Step: 1590... Loss: 1.3818... Val Loss: 1.4281\n",
            "Epoch: 12/20... Step: 1600... Loss: 1.3976... Val Loss: 1.4247\n",
            "Epoch: 12/20... Step: 1610... Loss: 1.3956... Val Loss: 1.4271\n",
            "Epoch: 12/20... Step: 1620... Loss: 1.3966... Val Loss: 1.4179\n",
            "Epoch: 12/20... Step: 1630... Loss: 1.4186... Val Loss: 1.4186\n",
            "Epoch: 12/20... Step: 1640... Loss: 1.3935... Val Loss: 1.4208\n",
            "Epoch: 12/20... Step: 1650... Loss: 1.3745... Val Loss: 1.4181\n",
            "Epoch: 12/20... Step: 1660... Loss: 1.4330... Val Loss: 1.4145\n",
            "Epoch: 13/20... Step: 1670... Loss: 1.3925... Val Loss: 1.4149\n",
            "Epoch: 13/20... Step: 1680... Loss: 1.4071... Val Loss: 1.4127\n",
            "Epoch: 13/20... Step: 1690... Loss: 1.3927... Val Loss: 1.4129\n",
            "Epoch: 13/20... Step: 1700... Loss: 1.3954... Val Loss: 1.4093\n",
            "Epoch: 13/20... Step: 1710... Loss: 1.3698... Val Loss: 1.4094\n",
            "Epoch: 13/20... Step: 1720... Loss: 1.3700... Val Loss: 1.4091\n",
            "Epoch: 13/20... Step: 1730... Loss: 1.4046... Val Loss: 1.4099\n",
            "Epoch: 13/20... Step: 1740... Loss: 1.3791... Val Loss: 1.4098\n",
            "Epoch: 13/20... Step: 1750... Loss: 1.3484... Val Loss: 1.4126\n",
            "Epoch: 13/20... Step: 1760... Loss: 1.3715... Val Loss: 1.4045\n",
            "Epoch: 13/20... Step: 1770... Loss: 1.4014... Val Loss: 1.4012\n",
            "Epoch: 13/20... Step: 1780... Loss: 1.3741... Val Loss: 1.4025\n",
            "Epoch: 13/20... Step: 1790... Loss: 1.3696... Val Loss: 1.3989\n",
            "Epoch: 13/20... Step: 1800... Loss: 1.3742... Val Loss: 1.3971\n",
            "Epoch: 14/20... Step: 1810... Loss: 1.3835... Val Loss: 1.4081\n",
            "Epoch: 14/20... Step: 1820... Loss: 1.3738... Val Loss: 1.3980\n",
            "Epoch: 14/20... Step: 1830... Loss: 1.3899... Val Loss: 1.3944\n",
            "Epoch: 14/20... Step: 1840... Loss: 1.3432... Val Loss: 1.3951\n",
            "Epoch: 14/20... Step: 1850... Loss: 1.3286... Val Loss: 1.3940\n",
            "Epoch: 14/20... Step: 1860... Loss: 1.3849... Val Loss: 1.3940\n",
            "Epoch: 14/20... Step: 1870... Loss: 1.3836... Val Loss: 1.3926\n",
            "Epoch: 14/20... Step: 1880... Loss: 1.3724... Val Loss: 1.3929\n",
            "Epoch: 14/20... Step: 1890... Loss: 1.3903... Val Loss: 1.3934\n",
            "Epoch: 14/20... Step: 1900... Loss: 1.3770... Val Loss: 1.3869\n",
            "Epoch: 14/20... Step: 1910... Loss: 1.3737... Val Loss: 1.3845\n",
            "Epoch: 14/20... Step: 1920... Loss: 1.3652... Val Loss: 1.3852\n",
            "Epoch: 14/20... Step: 1930... Loss: 1.3269... Val Loss: 1.3827\n",
            "Epoch: 14/20... Step: 1940... Loss: 1.3886... Val Loss: 1.3794\n",
            "Epoch: 15/20... Step: 1950... Loss: 1.3559... Val Loss: 1.3788\n",
            "Epoch: 15/20... Step: 1960... Loss: 1.3580... Val Loss: 1.3800\n",
            "Epoch: 15/20... Step: 1970... Loss: 1.3477... Val Loss: 1.3766\n",
            "Epoch: 15/20... Step: 1980... Loss: 1.3370... Val Loss: 1.3760\n",
            "Epoch: 15/20... Step: 1990... Loss: 1.3416... Val Loss: 1.3754\n",
            "Epoch: 15/20... Step: 2000... Loss: 1.3191... Val Loss: 1.3754\n",
            "Epoch: 15/20... Step: 2010... Loss: 1.3349... Val Loss: 1.3695\n",
            "Epoch: 15/20... Step: 2020... Loss: 1.3637... Val Loss: 1.3719\n",
            "Epoch: 15/20... Step: 2030... Loss: 1.3292... Val Loss: 1.3699\n",
            "Epoch: 15/20... Step: 2040... Loss: 1.3402... Val Loss: 1.3645\n",
            "Epoch: 15/20... Step: 2050... Loss: 1.3262... Val Loss: 1.3690\n",
            "Epoch: 15/20... Step: 2060... Loss: 1.3395... Val Loss: 1.3645\n",
            "Epoch: 15/20... Step: 2070... Loss: 1.3419... Val Loss: 1.3621\n",
            "Epoch: 15/20... Step: 2080... Loss: 1.3339... Val Loss: 1.3649\n",
            "Epoch: 16/20... Step: 2090... Loss: 1.3444... Val Loss: 1.3615\n",
            "Epoch: 16/20... Step: 2100... Loss: 1.3279... Val Loss: 1.3581\n",
            "Epoch: 16/20... Step: 2110... Loss: 1.3205... Val Loss: 1.3558\n",
            "Epoch: 16/20... Step: 2120... Loss: 1.3306... Val Loss: 1.3593\n",
            "Epoch: 16/20... Step: 2130... Loss: 1.3057... Val Loss: 1.3578\n",
            "Epoch: 16/20... Step: 2140... Loss: 1.3116... Val Loss: 1.3542\n",
            "Epoch: 16/20... Step: 2150... Loss: 1.3349... Val Loss: 1.3540\n",
            "Epoch: 16/20... Step: 2160... Loss: 1.3244... Val Loss: 1.3608\n",
            "Epoch: 16/20... Step: 2170... Loss: 1.3131... Val Loss: 1.3560\n",
            "Epoch: 16/20... Step: 2180... Loss: 1.2998... Val Loss: 1.3551\n",
            "Epoch: 16/20... Step: 2190... Loss: 1.3281... Val Loss: 1.3555\n",
            "Epoch: 16/20... Step: 2200... Loss: 1.3119... Val Loss: 1.3521\n",
            "Epoch: 16/20... Step: 2210... Loss: 1.2830... Val Loss: 1.3524\n",
            "Epoch: 16/20... Step: 2220... Loss: 1.3265... Val Loss: 1.3492\n",
            "Epoch: 17/20... Step: 2230... Loss: 1.2957... Val Loss: 1.3494\n",
            "Epoch: 17/20... Step: 2240... Loss: 1.2949... Val Loss: 1.3442\n",
            "Epoch: 17/20... Step: 2250... Loss: 1.2905... Val Loss: 1.3470\n",
            "Epoch: 17/20... Step: 2260... Loss: 1.3143... Val Loss: 1.3480\n",
            "Epoch: 17/20... Step: 2270... Loss: 1.3126... Val Loss: 1.3492\n",
            "Epoch: 17/20... Step: 2280... Loss: 1.3130... Val Loss: 1.3482\n",
            "Epoch: 17/20... Step: 2290... Loss: 1.3108... Val Loss: 1.3420\n",
            "Epoch: 17/20... Step: 2300... Loss: 1.2807... Val Loss: 1.3477\n",
            "Epoch: 17/20... Step: 2310... Loss: 1.3011... Val Loss: 1.3461\n",
            "Epoch: 17/20... Step: 2320... Loss: 1.2937... Val Loss: 1.3448\n",
            "Epoch: 17/20... Step: 2330... Loss: 1.2917... Val Loss: 1.3477\n",
            "Epoch: 17/20... Step: 2340... Loss: 1.3252... Val Loss: 1.3456\n",
            "Epoch: 17/20... Step: 2350... Loss: 1.3061... Val Loss: 1.3463\n",
            "Epoch: 17/20... Step: 2360... Loss: 1.3150... Val Loss: 1.3392\n",
            "Epoch: 18/20... Step: 2370... Loss: 1.2770... Val Loss: 1.3381\n",
            "Epoch: 18/20... Step: 2380... Loss: 1.2879... Val Loss: 1.3351\n",
            "Epoch: 18/20... Step: 2390... Loss: 1.2990... Val Loss: 1.3393\n",
            "Epoch: 18/20... Step: 2400... Loss: 1.3130... Val Loss: 1.3445\n",
            "Epoch: 18/20... Step: 2410... Loss: 1.2990... Val Loss: 1.3376\n",
            "Epoch: 18/20... Step: 2420... Loss: 1.2779... Val Loss: 1.3339\n",
            "Epoch: 18/20... Step: 2430... Loss: 1.2930... Val Loss: 1.3336\n",
            "Epoch: 18/20... Step: 2440... Loss: 1.2866... Val Loss: 1.3396\n",
            "Epoch: 18/20... Step: 2450... Loss: 1.2695... Val Loss: 1.3402\n",
            "Epoch: 18/20... Step: 2460... Loss: 1.2796... Val Loss: 1.3329\n",
            "Epoch: 18/20... Step: 2470... Loss: 1.2860... Val Loss: 1.3345\n",
            "Epoch: 18/20... Step: 2480... Loss: 1.2740... Val Loss: 1.3337\n",
            "Epoch: 18/20... Step: 2490... Loss: 1.2757... Val Loss: 1.3354\n",
            "Epoch: 18/20... Step: 2500... Loss: 1.2774... Val Loss: 1.3323\n",
            "Epoch: 19/20... Step: 2510... Loss: 1.2779... Val Loss: 1.3330\n",
            "Epoch: 19/20... Step: 2520... Loss: 1.2949... Val Loss: 1.3289\n",
            "Epoch: 19/20... Step: 2530... Loss: 1.2954... Val Loss: 1.3299\n",
            "Epoch: 19/20... Step: 2540... Loss: 1.3175... Val Loss: 1.3322\n",
            "Epoch: 19/20... Step: 2550... Loss: 1.2630... Val Loss: 1.3288\n",
            "Epoch: 19/20... Step: 2560... Loss: 1.2773... Val Loss: 1.3280\n",
            "Epoch: 19/20... Step: 2570... Loss: 1.2708... Val Loss: 1.3278\n",
            "Epoch: 19/20... Step: 2580... Loss: 1.2988... Val Loss: 1.3282\n",
            "Epoch: 19/20... Step: 2590... Loss: 1.2595... Val Loss: 1.3291\n",
            "Epoch: 19/20... Step: 2600... Loss: 1.2684... Val Loss: 1.3264\n",
            "Epoch: 19/20... Step: 2610... Loss: 1.2698... Val Loss: 1.3278\n",
            "Epoch: 19/20... Step: 2620... Loss: 1.2597... Val Loss: 1.3307\n",
            "Epoch: 19/20... Step: 2630... Loss: 1.2608... Val Loss: 1.3252\n",
            "Epoch: 19/20... Step: 2640... Loss: 1.2800... Val Loss: 1.3264\n",
            "Epoch: 20/20... Step: 2650... Loss: 1.2806... Val Loss: 1.3245\n",
            "Epoch: 20/20... Step: 2660... Loss: 1.2726... Val Loss: 1.3277\n",
            "Epoch: 20/20... Step: 2670... Loss: 1.2984... Val Loss: 1.3218\n",
            "Epoch: 20/20... Step: 2680... Loss: 1.2768... Val Loss: 1.3250\n",
            "Epoch: 20/20... Step: 2690... Loss: 1.2664... Val Loss: 1.3207\n",
            "Epoch: 20/20... Step: 2700... Loss: 1.2770... Val Loss: 1.3203\n",
            "Epoch: 20/20... Step: 2710... Loss: 1.2532... Val Loss: 1.3202\n",
            "Epoch: 20/20... Step: 2720... Loss: 1.2517... Val Loss: 1.3230\n",
            "Epoch: 20/20... Step: 2730... Loss: 1.2539... Val Loss: 1.3227\n",
            "Epoch: 20/20... Step: 2740... Loss: 1.2384... Val Loss: 1.3195\n",
            "Epoch: 20/20... Step: 2750... Loss: 1.2490... Val Loss: 1.3237\n",
            "Epoch: 20/20... Step: 2760... Loss: 1.2367... Val Loss: 1.3200\n",
            "Epoch: 20/20... Step: 2770... Loss: 1.2770... Val Loss: 1.3180\n",
            "Epoch: 20/20... Step: 2780... Loss: 1.2467... Val Loss: 1.3169\n"
          ],
          "name": "stdout"
        }
      ]
    },
    {
      "cell_type": "markdown",
      "metadata": {
        "id": "xPf31Sbb5HPb",
        "colab_type": "text"
      },
      "source": [
        "## Getting the best model\n",
        "\n",
        "To set your hyperparameters to get the best performance, you'll want to watch the training and validation losses. If your training loss is much lower than the validation loss, you're overfitting. Increase regularization (more dropout) or use a smaller network. If the training and validation losses are close, you're underfitting so you can increase the size of the network."
      ]
    },
    {
      "cell_type": "markdown",
      "metadata": {
        "id": "Dq-JBJPD5HPc",
        "colab_type": "text"
      },
      "source": [
        "## Hyperparameters\n",
        "\n",
        "Here are the hyperparameters for the network.\n",
        "\n",
        "In defining the model:\n",
        "* `n_hidden` - The number of units in the hidden layers.\n",
        "* `n_layers` - Number of hidden LSTM layers to use.\n",
        "\n",
        "We assume that dropout probability and learning rate will be kept at the default, in this example.\n",
        "\n",
        "And in training:\n",
        "* `batch_size` - Number of sequences running through the network in one pass.\n",
        "* `seq_length` - Number of characters in the sequence the network is trained on. Larger is better typically, the network will learn more long range dependencies. But it takes longer to train. 100 is typically a good number here.\n",
        "* `lr` - Learning rate for training\n",
        "\n",
        "Here's some good advice from Andrej Karpathy on training the network. I'm going to copy it in here for your benefit, but also link to [where it originally came from](https://github.com/karpathy/char-rnn#tips-and-tricks).\n",
        "\n",
        "> ## Tips and Tricks\n",
        "\n",
        ">### Monitoring Validation Loss vs. Training Loss\n",
        ">If you're somewhat new to Machine Learning or Neural Networks it can take a bit of expertise to get good models. The most important quantity to keep track of is the difference between your training loss (printed during training) and the validation loss (printed once in a while when the RNN is run on the validation data (by default every 1000 iterations)). In particular:\n",
        "\n",
        "> - If your training loss is much lower than validation loss then this means the network might be **overfitting**. Solutions to this are to decrease your network size, or to increase dropout. For example you could try dropout of 0.5 and so on.\n",
        "> - If your training/validation loss are about equal then your model is **underfitting**. Increase the size of your model (either number of layers or the raw number of neurons per layer)\n",
        "\n",
        "> ### Approximate number of parameters\n",
        "\n",
        "> The two most important parameters that control the model are `n_hidden` and `n_layers`. I would advise that you always use `n_layers` of either 2/3. The `n_hidden` can be adjusted based on how much data you have. The two important quantities to keep track of here are:\n",
        "\n",
        "> - The number of parameters in your model. This is printed when you start training.\n",
        "> - The size of your dataset. 1MB file is approximately 1 million characters.\n",
        "\n",
        ">These two should be about the same order of magnitude. It's a little tricky to tell. Here are some examples:\n",
        "\n",
        "> - I have a 100MB dataset and I'm using the default parameter settings (which currently print 150K parameters). My data size is significantly larger (100 mil >> 0.15 mil), so I expect to heavily underfit. I am thinking I can comfortably afford to make `n_hidden` larger.\n",
        "> - I have a 10MB dataset and running a 10 million parameter model. I'm slightly nervous and I'm carefully monitoring my validation loss. If it's larger than my training loss then I may want to try to increase dropout a bit and see if that helps the validation loss.\n",
        "\n",
        "> ### Best models strategy\n",
        "\n",
        ">The winning strategy to obtaining very good models (if you have the compute time) is to always err on making the network larger (as large as you're willing to wait for it to compute) and then try different dropout values (between 0,1). Whatever model has the best validation performance (the loss, written in the checkpoint filename, low is good) is the one you should use in the end.\n",
        "\n",
        ">It is very common in deep learning to run many different models with many different hyperparameter settings, and in the end take whatever checkpoint gave the best validation performance.\n",
        "\n",
        ">By the way, the size of your training and validation splits are also parameters. Make sure you have a decent amount of data in your validation set or otherwise the validation performance will be noisy and not very informative."
      ]
    },
    {
      "cell_type": "markdown",
      "metadata": {
        "id": "vn__QMBB5HPd",
        "colab_type": "text"
      },
      "source": [
        "## Checkpoint\n",
        "\n",
        "After training, we'll save the model so we can load it again later if we need too. Here I'm saving the parameters needed to create the same architecture, the hidden layer hyperparameters and the text characters."
      ]
    },
    {
      "cell_type": "code",
      "metadata": {
        "id": "jletqIMT5HPe",
        "colab_type": "code",
        "colab": {}
      },
      "source": [
        "# change the name, for saving multiple files\n",
        "model_name = 'rnn_x_epoch.net'\n",
        "\n",
        "checkpoint = {'n_hidden': net.n_hidden,\n",
        "              'n_layers': net.n_layers,\n",
        "              'state_dict': net.state_dict(),\n",
        "              'tokens': net.chars}\n",
        "\n",
        "with open(model_name, 'wb') as f:\n",
        "    torch.save(checkpoint, f)"
      ],
      "execution_count": 0,
      "outputs": []
    },
    {
      "cell_type": "markdown",
      "metadata": {
        "id": "ij2iMe9X5HPh",
        "colab_type": "text"
      },
      "source": [
        "---\n",
        "## Making Predictions\n",
        "\n",
        "Now that the model is trained, we'll want to sample from it and make predictions about next characters! To sample, we pass in a character and have the network predict the next character. Then we take that character, pass it back in, and get another predicted character. Just keep doing this and you'll generate a bunch of text!\n",
        "\n",
        "### A note on the `predict`  function\n",
        "\n",
        "The output of our RNN is from a fully-connected layer and it outputs a **distribution of next-character scores**.\n",
        "\n",
        "> To actually get the next character, we apply a softmax function, which gives us a *probability* distribution that we can then sample to predict the next character.\n",
        "\n",
        "### Top K sampling\n",
        "\n",
        "Our predictions come from a categorical probability distribution over all the possible characters. We can make the sample text and make it more reasonable to handle (with less variables) by only considering some $K$ most probable characters. This will prevent the network from giving us completely absurd characters while allowing it to introduce some noise and randomness into the sampled text. Read more about [topk, here](https://pytorch.org/docs/stable/torch.html#torch.topk).\n"
      ]
    },
    {
      "cell_type": "code",
      "metadata": {
        "id": "RIJQdJXG5HPi",
        "colab_type": "code",
        "colab": {}
      },
      "source": [
        "def predict(net, char, h=None, top_k=None):\n",
        "        ''' Given a character, predict the next character.\n",
        "            Returns the predicted character and the hidden state.\n",
        "        '''\n",
        "        \n",
        "        # tensor inputs\n",
        "        x = np.array([[net.char2int[char]]])\n",
        "        x = one_hot_encode(x, len(net.chars))\n",
        "        inputs = torch.from_numpy(x)\n",
        "        \n",
        "        if(train_on_gpu):\n",
        "            inputs = inputs.cuda()\n",
        "        \n",
        "        # detach hidden state from history\n",
        "        h = tuple([each.data for each in h])\n",
        "        # get the output of the model\n",
        "        out, h = net(inputs, h)\n",
        "\n",
        "        # get the character probabilities\n",
        "        p = F.softmax(out, dim=1).data\n",
        "        if(train_on_gpu):\n",
        "            p = p.cpu() # move to cpu\n",
        "        \n",
        "        # get top characters\n",
        "        if top_k is None:\n",
        "            top_ch = np.arange(len(net.chars))\n",
        "        else:\n",
        "            p, top_ch = p.topk(top_k)\n",
        "            top_ch = top_ch.numpy().squeeze()\n",
        "        \n",
        "        # select the likely next character with some element of randomness\n",
        "        p = p.numpy().squeeze()\n",
        "        char = np.random.choice(top_ch, p=p/p.sum())\n",
        "        \n",
        "        # return the encoded value of the predicted char and the hidden state\n",
        "        return net.int2char[char], h"
      ],
      "execution_count": 0,
      "outputs": []
    },
    {
      "cell_type": "markdown",
      "metadata": {
        "id": "bd7PT5zW5HPl",
        "colab_type": "text"
      },
      "source": [
        "### Priming and generating text \n",
        "\n",
        "Typically you'll want to prime the network so you can build up a hidden state. Otherwise the network will start out generating characters at random. In general the first bunch of characters will be a little rough since it hasn't built up a long history of characters to predict from."
      ]
    },
    {
      "cell_type": "code",
      "metadata": {
        "id": "UFeQoh735HPn",
        "colab_type": "code",
        "colab": {}
      },
      "source": [
        "def sample(net, size, prime='The', top_k=None):\n",
        "        \n",
        "    if(train_on_gpu):\n",
        "        net.cuda()\n",
        "    else:\n",
        "        net.cpu()\n",
        "    \n",
        "    net.eval() # eval mode\n",
        "    \n",
        "    # First off, run through the prime characters\n",
        "    chars = [ch for ch in prime]\n",
        "    h = net.init_hidden(1)\n",
        "    for ch in prime:\n",
        "        char, h = predict(net, ch, h, top_k=top_k)\n",
        "\n",
        "    chars.append(char)\n",
        "    \n",
        "    # Now pass in the previous character and get a new one\n",
        "    for ii in range(size):\n",
        "        char, h = predict(net, chars[-1], h, top_k=top_k)\n",
        "        chars.append(char)\n",
        "\n",
        "    return ''.join(chars)"
      ],
      "execution_count": 0,
      "outputs": []
    },
    {
      "cell_type": "code",
      "metadata": {
        "id": "DdHKlE_g5HPq",
        "colab_type": "code",
        "colab": {}
      },
      "source": [
        "print(sample(net, 1000, prime='Anna', top_k=5))"
      ],
      "execution_count": 0,
      "outputs": []
    },
    {
      "cell_type": "markdown",
      "metadata": {
        "id": "_SRGMyCz5HPu",
        "colab_type": "text"
      },
      "source": [
        "## Loading a checkpoint"
      ]
    },
    {
      "cell_type": "code",
      "metadata": {
        "id": "m18L-Bxs5HPv",
        "colab_type": "code",
        "colab": {}
      },
      "source": [
        "# Here we have loaded in a model that trained over 20 epochs `rnn_20_epoch.net`\n",
        "with open('rnn_x_epoch.net', 'rb') as f:\n",
        "    checkpoint = torch.load(f)\n",
        "    \n",
        "loaded = CharRNN(checkpoint['tokens'], n_hidden=checkpoint['n_hidden'], n_layers=checkpoint['n_layers'])\n",
        "loaded.load_state_dict(checkpoint['state_dict'])"
      ],
      "execution_count": 0,
      "outputs": []
    },
    {
      "cell_type": "code",
      "metadata": {
        "id": "QB89zYl_5HPy",
        "colab_type": "code",
        "colab": {}
      },
      "source": [
        "# Sample using a loaded model\n",
        "print(sample(loaded, 2000, top_k=5, prime=\"And Levin said\"))"
      ],
      "execution_count": 0,
      "outputs": []
    },
    {
      "cell_type": "code",
      "metadata": {
        "id": "Mf6SWEST5HP3",
        "colab_type": "code",
        "colab": {}
      },
      "source": [
        ""
      ],
      "execution_count": 0,
      "outputs": []
    }
  ]
}